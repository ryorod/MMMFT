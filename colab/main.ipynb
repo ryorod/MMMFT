{
  "nbformat": 4,
  "nbformat_minor": 0,
  "metadata": {
    "colab": {
      "provenance": [],
      "collapsed_sections": [],
      "authorship_tag": "ABX9TyNl3ZFA2eyOnYLDmH7kJ0El",
      "include_colab_link": true
    },
    "kernelspec": {
      "name": "python3",
      "display_name": "Python 3"
    },
    "language_info": {
      "name": "python"
    }
  },
  "cells": [
    {
      "cell_type": "markdown",
      "metadata": {
        "id": "view-in-github",
        "colab_type": "text"
      },
      "source": [
        "<a href=\"https://colab.research.google.com/github/ryorod/MMMFT/blob/master/colab/main.ipynb\" target=\"_parent\"><img src=\"https://colab.research.google.com/assets/colab-badge.svg\" alt=\"Open In Colab\"/></a>"
      ]
    },
    {
      "cell_type": "markdown",
      "source": [
        "# MMMFT API mock server\n",
        "### https://mmmft.ryorod.com/"
      ],
      "metadata": {
        "id": "QctnDLCAcjwO"
      }
    },
    {
      "cell_type": "code",
      "source": [
        "#@title CONFIGURE AWS\n",
        "\n",
        "!pip install awscli\n",
        "!aws configure"
      ],
      "metadata": {
        "id": "Qx1bWibO3Im2"
      },
      "execution_count": null,
      "outputs": []
    },
    {
      "cell_type": "code",
      "source": [
        "#@title INSTALL APP\n",
        "\n",
        "%cd /content\n",
        "!git clone https://github.com/ryorod/MMMFT.git\n",
        "%cd MMMFT/api_for_colab\n",
        "%pip install -r requirements.txt\n",
        "!cp -R app/* /content\n",
        "\n",
        "import sys\n",
        "sys.path.append('/content/MMMFT/api/app/utils')"
      ],
      "metadata": {
        "id": "loakDw1D1scK"
      },
      "execution_count": null,
      "outputs": []
    },
    {
      "cell_type": "code",
      "source": [
        "#@title INSTALL RESOURCES\n",
        "\n",
        "from tqdm import tqdm\n",
        "from google.colab import output\n",
        "pbar = tqdm(total=5)\n",
        "\n",
        "def update(x):\n",
        "  pbar.set_description(x)\n",
        "  output.clear()\n",
        "  pbar.update(1)\n",
        "\n",
        "%cd /content\n",
        "update(\"downloading source code\")\n",
        "!rm -rf MMM_API &> /dev/null\n",
        "!rm -rf MMM_API_SEP_2.zip &> /dev/null\n",
        "!wget https://www.sfu.ca/~jeffe/MMM_API_SEP_2.zip &> /dev/null\n",
        "!unzip -o MMM_API_SEP_2.zip &> /dev/null\n",
        "\n",
        "update(\"installing dependencies\")\n",
        "!apt-get install libprotobuf-dev protobuf-compiler &> /dev/null\n",
        "!wget https://download.pytorch.org/libtorch/cu102/libtorch-cxx11-abi-shared-with-deps-1.8.1%2Bcu102.zip &> /dev/null\n",
        "!unzip -o libtorch-cxx11-abi-shared-with-deps-1.8.1+cu102.zip &> /dev/null\n",
        "\n",
        "update(\"installing mmm-api (takes a few minutes)\")\n",
        "%cd /content/MMM_API\n",
        "!bash build_python_google.sh --google &> /dev/null\n",
        "%cd python\n",
        "%pip install . &> /dev/null\n",
        "import mmm_api as mmm\n",
        "\n",
        "update(\"installing python modules\")\n",
        "!pip install pyFluidSynth &> /dev/null\n",
        "!apt install fluidsynth &> /dev/null\n",
        "!pip install midi2audio &> /dev/null\n",
        "!cp /usr/share/sounds/sf2/FluidR3_GM.sf2 ./font.sf2 &> /dev/null\n",
        "\n",
        "update(\"downloading model\")\n",
        "%cd /content\n",
        "!wget -O model.pt http://vault.sfu.ca/index.php/s/Ff2j19IrKS5R969/download &> /dev/null\n"
      ],
      "metadata": {
        "id": "XDr9N3uZxglW"
      },
      "execution_count": null,
      "outputs": []
    },
    {
      "cell_type": "code",
      "source": [
        "#@title RUN APP\n",
        "\n",
        "import nest_asyncio\n",
        "from pyngrok import ngrok\n",
        "import uvicorn\n",
        "\n",
        "from app import app\n",
        "\n",
        "if __name__ == '__main__':\n",
        "  ngrok_tunnel = ngrok.connect(9999)\n",
        "  print('Public URL:', ngrok_tunnel.public_url)\n",
        "  nest_asyncio.apply()\n",
        "  uvicorn.run(app, port=9999)"
      ],
      "metadata": {
        "id": "LiBjOC2RdmQp"
      },
      "execution_count": null,
      "outputs": []
    },
    {
      "cell_type": "markdown",
      "source": [
        "references\n",
        "\n",
        "https://colab.research.google.com/drive/10ZAdEwHDbL1lVcUGeCdj9FxXnQSNFSH4?usp=sharing  \n",
        "https://stackoverflow.com/questions/63833593/how-to-run-fastapi-uvicorn-in-google-colab"
      ],
      "metadata": {
        "id": "WRgURpIrdIpf"
      }
    }
  ]
}